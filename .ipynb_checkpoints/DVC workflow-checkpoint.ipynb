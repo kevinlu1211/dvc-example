{
 "cells": [
  {
   "cell_type": "code",
   "execution_count": 1,
   "id": "confidential-latitude",
   "metadata": {},
   "outputs": [],
   "source": [
    "%load_ext autoreload\n",
    "%autoreload 2\n",
    "%load_ext lab_black"
   ]
  },
  {
   "cell_type": "code",
   "execution_count": 2,
   "id": "occupied-station",
   "metadata": {},
   "outputs": [],
   "source": [
    "import json\n",
    "import pickle\n",
    "import shutil\n",
    "from pathlib import Path\n",
    "from tempfile import TemporaryDirectory"
   ]
  },
  {
   "cell_type": "markdown",
   "id": "discrete-provision",
   "metadata": {},
   "source": [
    "#### 1. Set up mock repositories"
   ]
  },
  {
   "cell_type": "markdown",
   "id": "a15700f3-eb44-4e87-8ca2-f05ca9856221",
   "metadata": {},
   "source": [
    "##### Set up remote git repo for application used to train the model (this would usually be hosted in the cloud e.g. Github)"
   ]
  },
  {
   "cell_type": "code",
   "execution_count": 3,
   "id": "0aac6853-2904-4e74-9687-8ad23f7b3355",
   "metadata": {},
   "outputs": [
    {
     "name": "stdout",
     "output_type": "stream",
     "text": [
      "\u001b[33mhint: Using 'master' as the name for the initial branch. This default branch name\u001b[m\n",
      "\u001b[33mhint: is subject to change. To configure the initial branch name to use in all\u001b[m\n",
      "\u001b[33mhint: of your new repositories, which will suppress this warning, call:\u001b[m\n",
      "\u001b[33mhint: \u001b[m\n",
      "\u001b[33mhint: \tgit config --global init.defaultBranch <name>\u001b[m\n",
      "\u001b[33mhint: \u001b[m\n",
      "\u001b[33mhint: Names commonly chosen instead of 'master' are 'main', 'trunk' and\u001b[m\n",
      "\u001b[33mhint: 'development'. The just-created branch can be renamed via this command:\u001b[m\n",
      "\u001b[33mhint: \u001b[m\n",
      "\u001b[33mhint: \tgit branch -m <name>\u001b[m\n",
      "Initialized empty Git repository in /private/var/folders/l9/lc2j46w15bxdzz_cwhq2lx8w0000gn/T/tmpxyv1aezm/\n"
     ]
    }
   ],
   "source": [
    "git_remote = TemporaryDirectory()\n",
    "!git init --bare {git_remote.name}"
   ]
  },
  {
   "cell_type": "markdown",
   "id": "1542a823-974f-485f-9a29-f169c77c0feb",
   "metadata": {},
   "source": [
    "##### Set up local git repo for application used to train the model"
   ]
  },
  {
   "cell_type": "code",
   "execution_count": 4,
   "id": "66a73d15-f4cb-4e5c-a085-18a09d100258",
   "metadata": {},
   "outputs": [
    {
     "name": "stdout",
     "output_type": "stream",
     "text": [
      "\u001b[33mhint: Using 'master' as the name for the initial branch. This default branch name\u001b[m\n",
      "\u001b[33mhint: is subject to change. To configure the initial branch name to use in all\u001b[m\n",
      "\u001b[33mhint: of your new repositories, which will suppress this warning, call:\u001b[m\n",
      "\u001b[33mhint: \u001b[m\n",
      "\u001b[33mhint: \tgit config --global init.defaultBranch <name>\u001b[m\n",
      "\u001b[33mhint: \u001b[m\n",
      "\u001b[33mhint: Names commonly chosen instead of 'master' are 'main', 'trunk' and\u001b[m\n",
      "\u001b[33mhint: 'development'. The just-created branch can be renamed via this command:\u001b[m\n",
      "\u001b[33mhint: \u001b[m\n",
      "\u001b[33mhint: \tgit branch -m <name>\u001b[m\n",
      "Initialized empty Git repository in /private/var/folders/l9/lc2j46w15bxdzz_cwhq2lx8w0000gn/T/tmp_558rbu0/.git/\n"
     ]
    }
   ],
   "source": [
    "app_dir = TemporaryDirectory()\n",
    "!git init {app_dir.name}\n",
    "!cd {app_dir.name} && git remote add origin {git_remote.name}"
   ]
  },
  {
   "cell_type": "markdown",
   "id": "d4323798-4d4c-46ec-855a-bb7574e7890f",
   "metadata": {},
   "source": [
    "##### Set up DVC remote to store the data (this would usually be hosted in the cloud e.g. S3, Azure Blob, Google Cloud Storage)"
   ]
  },
  {
   "cell_type": "code",
   "execution_count": 5,
   "id": "7ec6e6e4-c779-47e7-a6bb-5ec8a350bd45",
   "metadata": {},
   "outputs": [
    {
     "name": "stdout",
     "output_type": "stream",
     "text": [
      "Initialized DVC repository.\n",
      "\n",
      "You can now commit the changes to git.\n",
      "\n",
      "\u001b[31m+---------------------------------------------------------------------+\n",
      "\u001b[0m\u001b[31m|\u001b[0m                                                                     \u001b[31m|\u001b[0m\n",
      "\u001b[31m|\u001b[0m        DVC has enabled anonymous aggregate usage analytics.         \u001b[31m|\u001b[0m\n",
      "\u001b[31m|\u001b[0m     Read the analytics documentation (and how to opt-out) here:     \u001b[31m|\u001b[0m\n",
      "\u001b[31m|\u001b[0m             <\u001b[36mhttps://dvc.org/doc/user-guide/analytics\u001b[39m>              \u001b[31m|\u001b[0m\n",
      "\u001b[31m|\u001b[0m                                                                     \u001b[31m|\u001b[0m\n",
      "\u001b[31m+---------------------------------------------------------------------+\n",
      "\u001b[0m\n",
      "\u001b[33mWhat's next?\u001b[39m\n",
      "\u001b[33m------------\u001b[39m\n",
      "- Check out the documentation: <\u001b[36mhttps://dvc.org/doc\u001b[39m>\n",
      "- Get help and share ideas: <\u001b[36mhttps://dvc.org/chat\u001b[39m>\n",
      "- Star us on GitHub: <\u001b[36mhttps://github.com/iterative/dvc\u001b[39m>\n",
      "\u001b[0m\u001b[0mSetting 'dvc_blob_storage' as a default remote.\n",
      "\u001b[0m"
     ]
    }
   ],
   "source": [
    "dvc_blob_storage = TemporaryDirectory()\n",
    "!dvc --cd {app_dir.name} init\n",
    "!dvc --cd {app_dir.name} install\n",
    "!dvc --cd {app_dir.name} remote add -d dvc_blob_storage {dvc_blob_storage.name}"
   ]
  },
  {
   "cell_type": "markdown",
   "id": "appropriate-familiar",
   "metadata": {},
   "source": [
    "#### 2. Track existing data"
   ]
  },
  {
   "cell_type": "markdown",
   "id": "01251ce1-c702-4571-85dc-21eab57a5666",
   "metadata": {},
   "source": [
    "##### Copying data to application directory to mimic existing data already in the repository"
   ]
  },
  {
   "cell_type": "code",
   "execution_count": 6,
   "id": "a75dfb49-9bea-426a-b766-45819acbb536",
   "metadata": {},
   "outputs": [
    {
     "data": {
      "text/plain": [
       "PosixPath('/var/folders/l9/lc2j46w15bxdzz_cwhq2lx8w0000gn/T/tmp_558rbu0/data/generated_samples/sample_2')"
      ]
     },
     "execution_count": 6,
     "metadata": {},
     "output_type": "execute_result"
    }
   ],
   "source": [
    "INPUT_DATA_SAVE_PATH = Path(app_dir.name) / \"data\" / \"generated_samples\"\n",
    "shutil.copytree(\n",
    "    Path(\"data\") / \"generated_samples\" / \"sample_1\",\n",
    "    INPUT_DATA_SAVE_PATH / \"sample_1\",\n",
    ")\n",
    "shutil.copytree(\n",
    "    Path(\"data\") / \"generated_samples\" / \"sample_2\",\n",
    "    INPUT_DATA_SAVE_PATH / \"sample_2\",\n",
    ")"
   ]
  },
  {
   "cell_type": "markdown",
   "id": "9de8f9e0-af30-4c1d-b0f5-8c3b7802ee4b",
   "metadata": {},
   "source": [
    "##### Track the data that was initially being used for training the model"
   ]
  },
  {
   "cell_type": "code",
   "execution_count": 7,
   "id": "0510c798-b5f3-48cb-b333-f2a99fc24e37",
   "metadata": {},
   "outputs": [
    {
     "name": "stdout",
     "output_type": "stream",
     "text": [
      "\u001b[?25l                                                                          \u001b[32m⠋\u001b[0m Checking graph\n",
      "Adding...                                                                       \n",
      "!\u001b[A\n",
      "Computing file/dir hashes (only done once)            |0.00 [00:00,      ?md5/s]\u001b[A\n",
      "\n",
      "!\u001b[A\u001b[A\n",
      "\n",
      "  0%|          |                                   0.00/? [00:00<?,        ?B/s]\u001b[A\u001b[A\n",
      "\n",
      "                                                                                \u001b[A\u001b[A\n",
      "\n",
      "!\u001b[A\u001b[A\n",
      "\n",
      "  0%|          |                                   0.00/? [00:00<?,        ?B/s]\u001b[A\u001b[A\n",
      "\n",
      "                                                                                \u001b[A\u001b[A\n",
      "                                                                                \u001b[A\n",
      "!\u001b[A\n",
      "  0%|          |                                 0.00/211 [00:00<?,        ?B/s]\u001b[A\n",
      "  0%|          |                                 0.00/211 [00:00<?,        ?B/s]\u001b[A\n",
      "                                                                                \u001b[A\n",
      "!\u001b[A\n",
      "  0%|          |Querying cache in /private/var/f0.00/3.00 [00:00<?,     ?file/s]\u001b[A\n",
      "                                                                                \u001b[A\n",
      "!\u001b[A\n",
      "  0%|          |Transferring                          0/3 [00:00<?,     ?file/s]\u001b[A\n",
      "\n",
      "!\u001b[A\u001b[A\n",
      "\n",
      "  0%|          |5b0633ea0f5b53e2dbf3cdbae70261.dir 0.00/? [00:00<?,        ?B/s]\u001b[A\u001b[A\n",
      "\n",
      "  0%|          |5b0633ea0f5b53e2dbf3cdbae70261.di0.00/211 [00:00<?,        ?B/s]\u001b[A\u001b[A\n",
      "\n",
      "                                                                                \u001b[A\u001b[A\n",
      "                                                                                \u001b[A\n",
      "!\u001b[A\n",
      "  0%|          |.fhUhf6UYuna5XCX7NCCkLd.tmp        0.00/? [00:00<?,        ?B/s]\u001b[A\n",
      "  0%|          |.fhUhf6UYuna5XCX7NCCkLd.tmp     0.00/4.00 [00:00<?,        ?B/s]\u001b[A\n",
      "100% Adding...|████████████████████████████████████████|1/1 [00:00, 28.02file/s]\u001b[A\n",
      "\n",
      "To track the changes with git, run:\n",
      "\n",
      "    git add data/generated_samples.dvc data/.gitignore\n",
      "\n",
      "To enable auto staging, run:\n",
      "\n",
      "\tdvc config core.autostage true\n",
      "\u001b[0m"
     ]
    }
   ],
   "source": [
    "!dvc --cd {app_dir.name} add data/generated_samples --file data/generated_samples.dvc\n",
    "assert (Path(app_dir.name) / \"data\" / \"generated_samples.dvc\").exists()"
   ]
  },
  {
   "cell_type": "code",
   "execution_count": 8,
   "id": "83867816-7a20-4944-b8b7-41200e2af276",
   "metadata": {},
   "outputs": [
    {
     "name": "stdout",
     "output_type": "stream",
     "text": [
      "total 16\n",
      "drwxr-xr-x  5 kevinlu  staff  160 Jan 22 16:24 \u001b[1m\u001b[36m.\u001b[m\u001b[m\n",
      "drwx------  6 kevinlu  staff  192 Jan 22 16:24 \u001b[1m\u001b[36m..\u001b[m\u001b[m\n",
      "-rw-r--r--  1 kevinlu  staff   19 Jan 22 16:24 .gitignore\n",
      "drwxr-xr-x  4 kevinlu  staff  128 Jan 22 16:24 \u001b[1m\u001b[36mgenerated_samples\u001b[m\u001b[m\n",
      "-rw-r--r--  1 kevinlu  staff  104 Jan 22 16:24 generated_samples.dvc\n"
     ]
    }
   ],
   "source": [
    "!ls -la {Path(app_dir.name) / \"data\"}"
   ]
  },
  {
   "cell_type": "code",
   "execution_count": 9,
   "id": "8fb3ffc7-a2e3-4f1e-ae6c-15d04aac9ae2",
   "metadata": {},
   "outputs": [
    {
     "name": "stdout",
     "output_type": "stream",
     "text": [
      "/generated_samples\n",
      "\n"
     ]
    }
   ],
   "source": [
    "print((Path(app_dir.name) / \"data\" / \".gitignore\").open(\"r\").read())"
   ]
  },
  {
   "cell_type": "markdown",
   "id": "796380ce-add5-4c54-b960-3ddc057d6c3b",
   "metadata": {},
   "source": [
    "##### Read what's inside generated_samples.dvc"
   ]
  },
  {
   "cell_type": "code",
   "execution_count": 10,
   "id": "arctic-vacuum",
   "metadata": {},
   "outputs": [
    {
     "name": "stdout",
     "output_type": "stream",
     "text": [
      "outs:\n",
      "- md5: 005b0633ea0f5b53e2dbf3cdbae70261.dir\n",
      "  size: 3587101\n",
      "  nfiles: 2\n",
      "  path: generated_samples\n",
      "\n"
     ]
    }
   ],
   "source": [
    "print((Path(app_dir.name) / \"data\" / \"generated_samples.dvc\").open(\"r\").read())"
   ]
  },
  {
   "cell_type": "markdown",
   "id": "herbal-headset",
   "metadata": {},
   "source": [
    "#### 3. Train with config file"
   ]
  },
  {
   "cell_type": "markdown",
   "id": "258fe113-654a-4479-a90b-9d376bb5604a",
   "metadata": {},
   "source": [
    "##### Set up mock training_inputs_folder and training_output folder"
   ]
  },
  {
   "cell_type": "code",
   "execution_count": 11,
   "id": "d9790eb6-ab1e-4b0d-a969-039a07c88bb1",
   "metadata": {},
   "outputs": [],
   "source": [
    "TRAINING_INPUT_PATH = Path(app_dir.name) / \"training_inputs\"\n",
    "CONFIG_FILE_PATH = TRAINING_INPUT_PATH / \"configs\" / \"config.json\"\n",
    "CONFIG_FILE_PATH.parent.mkdir(exist_ok=True, parents=True)\n",
    "config = {\"model_name\": \"resnet\"}\n",
    "json.dump(\n",
    "    config,\n",
    "    open(\n",
    "        Path(CONFIG_FILE_PATH),\n",
    "        \"w\",\n",
    "    ),\n",
    ")\n",
    "TRAINING_OUTPUT_PATH = Path(app_dir.name) / \"training_outputs\""
   ]
  },
  {
   "cell_type": "markdown",
   "id": "4d2f8fcb-5ec7-4e09-82e6-b0ab83446c16",
   "metadata": {},
   "source": [
    "##### Set up the mock training script"
   ]
  },
  {
   "cell_type": "code",
   "execution_count": 12,
   "id": "96bb8c28-4bde-4aa6-baad-f61bc9530d3d",
   "metadata": {},
   "outputs": [],
   "source": [
    "TRAIN_FILE = f\"\"\"\n",
    "import json\n",
    "import pickle\n",
    "from pathlib import Path\n",
    "\n",
    "def train_resnet_model(training_data):\n",
    "    model_weights = [1, 1, 1]\n",
    "    return model_weights\n",
    "    \n",
    "# load the config file & training data\n",
    "config = json.load(open(\"{CONFIG_FILE_PATH}\", \"r\"))\n",
    "training_data = [str(p) for p in (Path(\"{app_dir.name}\") / \"data\" / \"generated_samples\").glob(\"*\")]\n",
    "\n",
    "model_weights = train_resnet_model(training_data)\n",
    "\n",
    "Path(\"{TRAINING_OUTPUT_PATH}\").mkdir(exist_ok=True, parents=True)\n",
    "pickle.dump(dict(model_name=config[\"model_name\"], model_weights=model_weights, n_training_data_used=len(training_data)), open(f\"{TRAINING_OUTPUT_PATH}/model.p\", \"wb\"))\n",
    "\"\"\"\n",
    "with (Path(app_dir.name) / \"train.py\").open(\"w\") as f:\n",
    "    f.write(TRAIN_FILE)"
   ]
  },
  {
   "cell_type": "markdown",
   "id": "8476fa8f-7d91-4813-a5dc-fcf71b20a446",
   "metadata": {},
   "source": [
    "##### Run the train script with DVC"
   ]
  },
  {
   "cell_type": "code",
   "execution_count": 13,
   "id": "dbeeb5d7-1277-4858-9198-f8dc4817ba47",
   "metadata": {},
   "outputs": [
    {
     "name": "stdout",
     "output_type": "stream",
     "text": [
      "Running stage 'train':                                                          \n",
      "> python train.py\n",
      "Computing file/dir hashes (only done once)            |0.00 [00:00,      ?md5/s]\n",
      "!\u001b[A\n",
      "  0%|          |                                   0.00/? [00:00<?,        ?B/s]\u001b[A\n",
      "  0% Transferring|                                   |0/2 [00:00<?,     ?file/s]\u001b[A\n",
      "!\u001b[A\n",
      "  0%|          |02fd9deb759a6ff05d736c9f41b0d7.dir 0.00/? [00:00<?,        ?B/s]\u001b[A\n",
      "  0%|          |02fd9deb759a6ff05d736c9f41b0d7.d0.00/67.0 [00:00<?,        ?B/s]\u001b[A\n",
      "Creating 'dvc.yaml'                                                             \u001b[A\n",
      "Adding stage 'train' in 'dvc.yaml'\n",
      "Generating lock file 'dvc.lock'\n",
      "Updating lock file 'dvc.lock'\n",
      "\n",
      "To track the changes with git, run:\n",
      "\n",
      "    git add dvc.lock dvc.yaml .gitignore\n",
      "\n",
      "To enable auto staging, run:\n",
      "\n",
      "\tdvc config core.autostage true\n",
      "\u001b[0m"
     ]
    }
   ],
   "source": [
    "!dvc --cd {app_dir.name} run --name train --deps train.py --deps training_inputs --deps data/generated_samples --outs training_outputs python train.py"
   ]
  },
  {
   "cell_type": "code",
   "execution_count": 14,
   "id": "bea37123-e2c6-402a-8835-995401f9c52e",
   "metadata": {},
   "outputs": [],
   "source": [
    "model = pickle.load(open(TRAINING_OUTPUT_PATH / \"model.p\", \"rb\"))\n",
    "assert model[\"model_name\"] == \"resnet\"\n",
    "assert model[\"model_weights\"] == [1, 1, 1]\n",
    "assert model[\"n_training_data_used\"] == 2\n",
    "assert (TRAINING_OUTPUT_PATH / \"model.p\").exists()\n",
    "assert (Path(app_dir.name) / \"dvc.lock\").exists()\n",
    "assert (Path(app_dir.name) / \"dvc.yaml\").exists()"
   ]
  },
  {
   "cell_type": "markdown",
   "id": "lovely-liverpool",
   "metadata": {},
   "source": [
    "#### 4. Reproducing the workflow with DVC & see how changing the dependencies of the stage in the workflow triggers a retraining of the model"
   ]
  },
  {
   "cell_type": "markdown",
   "id": "044e12fe-1c25-4cec-8b74-09324a33fb39",
   "metadata": {},
   "source": [
    "##### First run `dvc_repro`"
   ]
  },
  {
   "cell_type": "code",
   "execution_count": 15,
   "id": "90a74c77-0ad4-4b06-8285-b9ce926e4168",
   "metadata": {},
   "outputs": [
    {
     "name": "stdout",
     "output_type": "stream",
     "text": [
      "'data/generated_samples.dvc' didn't change, skipping                  core\u001b[39m>\n",
      "Stage 'train' didn't change, skipping                                           \n",
      "Data and pipelines are up to date.\n",
      "\u001b[0m"
     ]
    }
   ],
   "source": [
    "!dvc --cd {app_dir.name} repro"
   ]
  },
  {
   "cell_type": "markdown",
   "id": "25c13f13-881b-4d2c-8c9c-b486676ccc10",
   "metadata": {},
   "source": [
    "##### Change config file"
   ]
  },
  {
   "cell_type": "code",
   "execution_count": 16,
   "id": "e2552b7c-cafe-493e-b337-6b70b5915020",
   "metadata": {},
   "outputs": [],
   "source": [
    "config = {\"model_name\": \"ResNeXt\"}\n",
    "json.dump(config, open(CONFIG_FILE_PATH, \"w\"))"
   ]
  },
  {
   "cell_type": "markdown",
   "id": "b2c514c8-4dac-4719-890b-27777e83fa63",
   "metadata": {},
   "source": [
    "##### Run `dvc repro`"
   ]
  },
  {
   "cell_type": "code",
   "execution_count": 17,
   "id": "d329e315-75f2-41fc-98fb-b6ce605176e1",
   "metadata": {},
   "outputs": [
    {
     "name": "stdout",
     "output_type": "stream",
     "text": [
      "'data/generated_samples.dvc' didn't change, skipping                  core\u001b[39m>\n",
      "Running stage 'train':                                                          \n",
      "> python train.py\n",
      "Computing file/dir hashes (only done once)            |0.00 [00:00,      ?md5/s]\n",
      "!\u001b[A\n",
      "  0%|          |                                   0.00/? [00:00<?,        ?B/s]\u001b[A\n",
      "  0% Transferring|                                   |0/2 [00:00<?,     ?file/s]\u001b[A\n",
      "!\u001b[A\n",
      "  0%|          |9f84b7ec502831c8451d727025e315.dir 0.00/? [00:00<?,        ?B/s]\u001b[A\n",
      "  0%|          |9f84b7ec502831c8451d727025e315.d0.00/67.0 [00:00<?,        ?B/s]\u001b[A\n",
      "Updating lock file 'dvc.lock'                                                   \u001b[A\n",
      "\n",
      "To track the changes with git, run:\n",
      "\n",
      "    git add dvc.lock\n",
      "\n",
      "To enable auto staging, run:\n",
      "\n",
      "\tdvc config core.autostage true\n",
      "Use `dvc push` to send your updates to remote storage.\n",
      "\u001b[0m"
     ]
    }
   ],
   "source": [
    "!dvc --cd {app_dir.name} repro"
   ]
  },
  {
   "cell_type": "markdown",
   "id": "8169d712-6b20-4a29-b1bf-2e1a80d92944",
   "metadata": {},
   "source": [
    "##### Check if the `train.py` script was run"
   ]
  },
  {
   "cell_type": "code",
   "execution_count": 18,
   "id": "9ce14eff-2b50-4216-9b71-13f61b9ddddc",
   "metadata": {},
   "outputs": [],
   "source": [
    "model = pickle.load(open(TRAINING_OUTPUT_PATH / \"model.p\", \"rb\"))\n",
    "assert model[\"model_name\"] == \"ResNeXt\"\n",
    "assert model[\"n_training_data_used\"] == 2\n",
    "assert model[\"model_weights\"] == [1, 1, 1]"
   ]
  },
  {
   "cell_type": "markdown",
   "id": "9e6a0bf6-131b-4861-81c8-87876306f78d",
   "metadata": {},
   "source": [
    "##### Add new data"
   ]
  },
  {
   "cell_type": "code",
   "execution_count": 19,
   "id": "e601a349-46b6-439c-b18c-b1538362118c",
   "metadata": {},
   "outputs": [
    {
     "data": {
      "text/plain": [
       "PosixPath('/var/folders/l9/lc2j46w15bxdzz_cwhq2lx8w0000gn/T/tmp_558rbu0/data/generated_samples/sample_3')"
      ]
     },
     "execution_count": 19,
     "metadata": {},
     "output_type": "execute_result"
    }
   ],
   "source": [
    "shutil.copytree(\n",
    "    Path(\"data\") / \"generated_samples\" / \"sample_3\",\n",
    "    INPUT_DATA_SAVE_PATH / \"sample_3\",\n",
    ")"
   ]
  },
  {
   "cell_type": "markdown",
   "id": "d4ee2a45-d9c0-454c-93b3-51b795def53f",
   "metadata": {},
   "source": [
    "##### Run `dvc repro`"
   ]
  },
  {
   "cell_type": "code",
   "execution_count": 20,
   "id": "108681b9-2a15-4482-88c3-83baa09a4ac3",
   "metadata": {},
   "outputs": [
    {
     "name": "stdout",
     "output_type": "stream",
     "text": [
      "Computing file/dir hashes (only done once)            |0.00 [00:00,      ?md5/s]\n",
      "!\u001b[A\n",
      "  0%|          |                                   0.00/? [00:00<?,        ?B/s]\u001b[A\n",
      "\n",
      "  0%|          |                                   0.00/? [00:00<?,        ?B/s]\u001b[A\u001b[A\n",
      "                                                                                \u001b[A\n",
      "\n",
      "                                                                                \u001b[A\u001b[A\n",
      "!\u001b[A\n",
      "  0%|          |                                   0.00/? [00:00<?,        ?B/s]\u001b[A\n",
      "Verifying data sources in stage: 'data/generated_samples.dvc'                   \u001b[A\n",
      "  0% Transferring|                                   |0/2 [00:00<?,     ?file/s]\n",
      "!\u001b[A\n",
      "  0%|          |6c61d04dc5ba4307ffa47684979360.dir 0.00/? [00:00<?,        ?B/s]\u001b[A\n",
      "  0%|          |6c61d04dc5ba4307ffa47684979360.di0.00/312 [00:00<?,        ?B/s]\u001b[A\n",
      "                                                                                \u001b[A\n",
      "Running stage 'train':                                                          \n",
      "> python train.py\n",
      "Computing file/dir hashes (only done once)            |0.00 [00:00,      ?md5/s]\n",
      "!\u001b[A\n",
      "  0%|          |                                   0.00/? [00:00<?,        ?B/s]\u001b[A\n",
      "  0% Transferring|                                   |0/2 [00:00<?,     ?file/s]\u001b[A\n",
      "!\u001b[A\n",
      "  0%|          |e38989f2982ee16ffba3a2c64004b2.dir 0.00/? [00:00<?,        ?B/s]\u001b[A\n",
      "  0%|          |e38989f2982ee16ffba3a2c64004b2.d0.00/67.0 [00:00<?,        ?B/s]\u001b[A\n",
      "Updating lock file 'dvc.lock'                                                   \u001b[A\n",
      "\n",
      "To track the changes with git, run:\n",
      "\n",
      "    git add data/generated_samples.dvc dvc.lock\n",
      "\n",
      "To enable auto staging, run:\n",
      "\n",
      "\tdvc config core.autostage true\n",
      "Use `dvc push` to send your updates to remote storage.\n",
      "\u001b[0m"
     ]
    }
   ],
   "source": [
    "!dvc --cd {app_dir.name} repro"
   ]
  },
  {
   "cell_type": "markdown",
   "id": "278c17ca-d014-4d77-8a8b-059fcb6220bb",
   "metadata": {},
   "source": [
    "##### Check if the `train.py` script was run"
   ]
  },
  {
   "cell_type": "code",
   "execution_count": 21,
   "id": "a62bc388-c564-47ef-bb62-37f4fa8171dc",
   "metadata": {},
   "outputs": [],
   "source": [
    "model = pickle.load(open(TRAINING_OUTPUT_PATH / \"model.p\", \"rb\"))\n",
    "assert model[\"model_name\"] == \"ResNeXt\"\n",
    "assert model[\"n_training_data_used\"] == 3\n",
    "assert model[\"model_weights\"] == [1, 1, 1]"
   ]
  },
  {
   "cell_type": "markdown",
   "id": "c7843ae7-f92d-4f3d-8e91-b673c2909fcd",
   "metadata": {},
   "source": [
    "##### Update `train.py`"
   ]
  },
  {
   "cell_type": "code",
   "execution_count": 22,
   "id": "8f95fa93-eca7-40cf-828b-66df5a466b3f",
   "metadata": {},
   "outputs": [],
   "source": [
    "TRAIN_FILE = f\"\"\"\n",
    "import json\n",
    "import pickle\n",
    "from pathlib import Path\n",
    "\n",
    "def train_resnet_model(training_data):\n",
    "    model_weights = [2, 2, 2]\n",
    "    return model_weights\n",
    "    \n",
    "# load the config file & training data\n",
    "config = json.load(open(\"{CONFIG_FILE_PATH}\", \"r\"))\n",
    "training_data = [str(p) for p in (Path(\"{app_dir.name}\") / \"data\" / \"generated_samples\").glob(\"*\")]\n",
    "\n",
    "model_weights = train_resnet_model(training_data)\n",
    "\n",
    "Path(\"{TRAINING_OUTPUT_PATH}\").mkdir(exist_ok=True, parents=True)\n",
    "pickle.dump(dict(model_name=config[\"model_name\"], model_weights=model_weights, n_training_data_used=len(training_data)), open(f\"{TRAINING_OUTPUT_PATH}/model.p\", \"wb\"))\n",
    "\"\"\"\n",
    "with (Path(app_dir.name) / \"train.py\").open(\"w\") as f:\n",
    "    f.write(TRAIN_FILE)"
   ]
  },
  {
   "cell_type": "markdown",
   "id": "6fc2e696-f2cb-49b3-ab4b-56138c67f0f6",
   "metadata": {},
   "source": [
    "##### Run `dvc repro`"
   ]
  },
  {
   "cell_type": "code",
   "execution_count": 23,
   "id": "04978ad8-7d73-4d59-a459-41d819504695",
   "metadata": {},
   "outputs": [
    {
     "name": "stdout",
     "output_type": "stream",
     "text": [
      "'data/generated_samples.dvc' didn't change, skipping                  core\u001b[39m>\n",
      "Running stage 'train':                                                          \n",
      "> python train.py\n",
      "Computing file/dir hashes (only done once)            |0.00 [00:00,      ?md5/s]\n",
      "!\u001b[A\n",
      "  0%|          |                                   0.00/? [00:00<?,        ?B/s]\u001b[A\n",
      "  0% Transferring|                                   |0/2 [00:00<?,     ?file/s]\u001b[A\n",
      "!\u001b[A\n",
      "  0%|          |0ca6334ac2dbf1af5432e6f453fdcc.dir 0.00/? [00:00<?,        ?B/s]\u001b[A\n",
      "  0%|          |0ca6334ac2dbf1af5432e6f453fdcc.d0.00/67.0 [00:00<?,        ?B/s]\u001b[A\n",
      "Updating lock file 'dvc.lock'                                                   \u001b[A\n",
      "\n",
      "To track the changes with git, run:\n",
      "\n",
      "    git add dvc.lock\n",
      "\n",
      "To enable auto staging, run:\n",
      "\n",
      "\tdvc config core.autostage true\n",
      "Use `dvc push` to send your updates to remote storage.\n",
      "\u001b[0m"
     ]
    }
   ],
   "source": [
    "!dvc --cd {app_dir.name} repro"
   ]
  },
  {
   "cell_type": "code",
   "execution_count": 24,
   "id": "bfe3c60d-d560-43e4-9c2a-2d7afb79c177",
   "metadata": {},
   "outputs": [],
   "source": [
    "model = pickle.load(open(TRAINING_OUTPUT_PATH / \"model.p\", \"rb\"))\n",
    "assert model[\"model_name\"] == \"ResNeXt\"\n",
    "assert model[\"n_training_data_used\"] == 3\n",
    "assert model[\"model_weights\"] == [2, 2, 2]"
   ]
  },
  {
   "cell_type": "markdown",
   "id": "aquatic-manitoba",
   "metadata": {},
   "source": [
    "#### 5. Checking the file sizes of the repositories and blob storage"
   ]
  },
  {
   "cell_type": "markdown",
   "id": "b546fe8e-d206-405f-9471-fe017b336e59",
   "metadata": {},
   "source": [
    "##### Push to remote (notice how the files are automatically pushed too)"
   ]
  },
  {
   "cell_type": "code",
   "execution_count": 25,
   "id": "20bc495e-f684-441c-997b-fb0cb1dba709",
   "metadata": {},
   "outputs": [
    {
     "name": "stdout",
     "output_type": "stream",
     "text": [
      "Data and pipelines are up to date.                                              \n",
      "\u001b[0m[master (root-commit) 460e3dc] initial commit\n",
      " 16 files changed, 574 insertions(+)\n",
      " create mode 100644 .dvc/.gitignore\n",
      " create mode 100644 .dvc/config\n",
      " create mode 100644 .dvc/plots/confusion.json\n",
      " create mode 100644 .dvc/plots/confusion_normalized.json\n",
      " create mode 100644 .dvc/plots/linear.json\n",
      " create mode 100644 .dvc/plots/scatter.json\n",
      " create mode 100644 .dvc/plots/simple.json\n",
      " create mode 100644 .dvc/plots/smooth.json\n",
      " create mode 100644 .dvcignore\n",
      " create mode 100644 .gitignore\n",
      " create mode 100644 data/.gitignore\n",
      " create mode 100644 data/generated_samples.dvc\n",
      " create mode 100644 dvc.lock\n",
      " create mode 100644 dvc.yaml\n",
      " create mode 100644 train.py\n",
      " create mode 100644 training_inputs/configs/config.json\n",
      "6 files pushed                                                                  \n",
      "\u001b[0mEnumerating objects: 23, done.\n",
      "Counting objects: 100% (23/23), done.\n",
      "Delta compression using up to 10 threads\n",
      "Compressing objects: 100% (17/17), done.\n",
      "Writing objects: 100% (23/23), 3.80 KiB | 3.80 MiB/s, done.\n",
      "Total 23 (delta 5), reused 0 (delta 0), pack-reused 0\n",
      "To /var/folders/l9/lc2j46w15bxdzz_cwhq2lx8w0000gn/T/tmpxyv1aezm\n",
      " * [new branch]      master -> master\n"
     ]
    }
   ],
   "source": [
    "!cd {app_dir.name} && git add .\n",
    "!cd {app_dir.name} && git commit -m 'initial commit'\n",
    "!cd {app_dir.name} && git push origin master"
   ]
  },
  {
   "cell_type": "markdown",
   "id": "2659cca4-ac24-4924-8445-b8d93648c5b7",
   "metadata": {},
   "source": [
    "##### Check files in the application repo"
   ]
  },
  {
   "cell_type": "code",
   "execution_count": 26,
   "id": "closing-consultancy",
   "metadata": {},
   "outputs": [
    {
     "name": "stdout",
     "output_type": "stream",
     "text": [
      "\u001b[01;34m/var/folders/l9/lc2j46w15bxdzz_cwhq2lx8w0000gn/T/tmp_558rbu0\u001b[00m\n",
      "├── \u001b[01;34mdata\u001b[00m\n",
      "│   ├── \u001b[01;34mgenerated_samples\u001b[00m\n",
      "│   │   ├── \u001b[01;34msample_1\u001b[00m\n",
      "│   │   │   └── \u001b[01;35mpreethi-viswanathan-h5fsy4E4FMY-unsplash.jpg\u001b[00m\n",
      "│   │   ├── \u001b[01;34msample_2\u001b[00m\n",
      "│   │   │   └── \u001b[01;35mnasa-Q1p7bh3SHj8-unsplash.jpg\u001b[00m\n",
      "│   │   └── \u001b[01;34msample_3\u001b[00m\n",
      "│   │       └── \u001b[01;35mjj-ying-8bghKxNU1j0-unsplash.jpg\u001b[00m\n",
      "│   └── generated_samples.dvc\n",
      "├── dvc.lock\n",
      "├── dvc.yaml\n",
      "├── train.py\n",
      "├── \u001b[01;34mtraining_inputs\u001b[00m\n",
      "│   └── \u001b[01;34mconfigs\u001b[00m\n",
      "│       └── config.json\n",
      "└── \u001b[01;34mtraining_outputs\u001b[00m\n",
      "    └── model.p\n",
      "\n",
      "8 directories, 9 files\n"
     ]
    }
   ],
   "source": [
    "!tree {app_dir.name}"
   ]
  },
  {
   "cell_type": "code",
   "execution_count": 27,
   "id": "00a14eef-9765-468e-8866-a124a2b36a01",
   "metadata": {},
   "outputs": [
    {
     "name": "stdout",
     "output_type": "stream",
     "text": [
      "8.8M\t.\n"
     ]
    }
   ],
   "source": [
    "!cd {app_dir.name} && du -sh --"
   ]
  },
  {
   "cell_type": "markdown",
   "id": "0369d4fa-3778-4844-a4cc-b1d851ec195e",
   "metadata": {},
   "source": [
    "##### Check the size of the git remote"
   ]
  },
  {
   "cell_type": "code",
   "execution_count": 28,
   "id": "feecbf19-9c14-44d6-969a-573cb1296d83",
   "metadata": {},
   "outputs": [
    {
     "name": "stdout",
     "output_type": "stream",
     "text": [
      "172K\t.\n"
     ]
    }
   ],
   "source": [
    "!cd {git_remote.name} && du -sh --"
   ]
  },
  {
   "cell_type": "markdown",
   "id": "c9cb0dbe-033e-47e4-b23a-bcd4ce302c43",
   "metadata": {},
   "source": [
    "##### Check the size of the dvc remote"
   ]
  },
  {
   "cell_type": "code",
   "execution_count": 29,
   "id": "limiting-render",
   "metadata": {},
   "outputs": [
    {
     "name": "stdout",
     "output_type": "stream",
     "text": [
      "4.2M\t.\n"
     ]
    }
   ],
   "source": [
    "!cd {dvc_blob_storage.name} && du -sh --"
   ]
  },
  {
   "cell_type": "markdown",
   "id": "dense-negative",
   "metadata": {},
   "source": [
    "#### 6. Using `dvc pull` to only pull down the model artifacts"
   ]
  },
  {
   "cell_type": "markdown",
   "id": "153855bf-4ca3-435e-b136-fad1abf30352",
   "metadata": {},
   "source": [
    "##### Clone down model file"
   ]
  },
  {
   "cell_type": "code",
   "execution_count": 30,
   "id": "f75046f4-5ffa-41cb-a8aa-12c3e7a7820b",
   "metadata": {},
   "outputs": [
    {
     "name": "stdout",
     "output_type": "stream",
     "text": [
      "Cloning into 'tmpxyv1aezm'...\n",
      "done.\n"
     ]
    }
   ],
   "source": [
    "ci_env_dir = TemporaryDirectory()\n",
    "\n",
    "!cd {ci_env_dir.name} && git clone {git_remote.name}\n",
    "cloned_project_path = f\"{ci_env_dir.name}/{Path(git_remote.name).stem}\""
   ]
  },
  {
   "cell_type": "markdown",
   "id": "caec8685-dc2d-49a9-b5d9-2deeb7a05f06",
   "metadata": {},
   "source": [
    "##### Check to see only the files in git are being pulled down"
   ]
  },
  {
   "cell_type": "code",
   "execution_count": 31,
   "id": "fe8d2765-330a-4e5c-ab39-abd946d049df",
   "metadata": {},
   "outputs": [
    {
     "name": "stdout",
     "output_type": "stream",
     "text": [
      "\u001b[01;34m/var/folders/l9/lc2j46w15bxdzz_cwhq2lx8w0000gn/T/tmp05qql2dm/tmpxyv1aezm\u001b[00m\n",
      "├── \u001b[01;34mdata\u001b[00m\n",
      "│   └── generated_samples.dvc\n",
      "├── dvc.lock\n",
      "├── dvc.yaml\n",
      "├── train.py\n",
      "└── \u001b[01;34mtraining_inputs\u001b[00m\n",
      "    └── \u001b[01;34mconfigs\u001b[00m\n",
      "        └── config.json\n",
      "\n",
      "3 directories, 5 files\n"
     ]
    }
   ],
   "source": [
    "!tree {cloned_project_path}"
   ]
  },
  {
   "cell_type": "markdown",
   "id": "ee57bbbb-fcdb-4a23-983b-b3026e3ab87e",
   "metadata": {},
   "source": [
    "##### Pull down the model file"
   ]
  },
  {
   "cell_type": "code",
   "execution_count": 32,
   "id": "62ba37e0-c20a-4f2b-b77f-404c0e1ada95",
   "metadata": {},
   "outputs": [
    {
     "name": "stdout",
     "output_type": "stream",
     "text": [
      "  0% Checkout|                                       |0/1 [00:00<?,     ?file/s]\n",
      "!\u001b[A\n",
      "  0%|          |.eio9jzvnrBGYUNUjT6Ss87.tmp        0.00/? [00:00<?,        ?B/s]\u001b[A\n",
      "  0%|          |.eio9jzvnrBGYUNUjT6Ss87.tmp     0.00/4.00 [00:00<?,        ?B/s]\u001b[A\n",
      "\u001b[32mA\u001b[0m       training_outputs/                                              \u001b[A\n",
      "1 file added and 1 file fetched\n",
      "\u001b[0m"
     ]
    }
   ],
   "source": [
    "!dvc --cd {cloned_project_path} pull train"
   ]
  },
  {
   "cell_type": "markdown",
   "id": "0bb715f3-2dea-44a2-b4e0-b155dce1532f",
   "metadata": {},
   "source": [
    "##### Check that only the model file is pulled, but not the data"
   ]
  },
  {
   "cell_type": "code",
   "execution_count": 33,
   "id": "4197193a-11ee-4046-8804-63667dfb51c7",
   "metadata": {},
   "outputs": [
    {
     "name": "stdout",
     "output_type": "stream",
     "text": [
      "\u001b[01;34m/var/folders/l9/lc2j46w15bxdzz_cwhq2lx8w0000gn/T/tmp05qql2dm/tmpxyv1aezm\u001b[00m\n",
      "├── \u001b[01;34mdata\u001b[00m\n",
      "│   └── generated_samples.dvc\n",
      "├── dvc.lock\n",
      "├── dvc.yaml\n",
      "├── train.py\n",
      "├── \u001b[01;34mtraining_inputs\u001b[00m\n",
      "│   └── \u001b[01;34mconfigs\u001b[00m\n",
      "│       └── config.json\n",
      "└── \u001b[01;34mtraining_outputs\u001b[00m\n",
      "    └── model.p\n",
      "\n",
      "4 directories, 6 files\n"
     ]
    }
   ],
   "source": [
    "!tree {cloned_project_path}"
   ]
  },
  {
   "cell_type": "markdown",
   "id": "allied-reducing",
   "metadata": {},
   "source": [
    "#### 7. Mimic developer environment"
   ]
  },
  {
   "cell_type": "markdown",
   "id": "4c6baa37-a0a7-48f0-bea9-16f4e88f65c5",
   "metadata": {},
   "source": [
    "##### First pull down the git files"
   ]
  },
  {
   "cell_type": "code",
   "execution_count": 34,
   "id": "8b9871aa-7940-48b2-9b01-eb4a57be392a",
   "metadata": {},
   "outputs": [
    {
     "name": "stdout",
     "output_type": "stream",
     "text": [
      "Cloning into 'tmpxyv1aezm'...\n",
      "done.\n"
     ]
    }
   ],
   "source": [
    "dev_dir = TemporaryDirectory()\n",
    "!cd {dev_dir.name} && git clone {git_remote.name}\n",
    "cloned_project_path = f\"{dev_dir.name}/{Path(git_remote.name).stem}\""
   ]
  },
  {
   "cell_type": "markdown",
   "id": "bc66b6ed-2c52-4854-b542-97d19cd07634",
   "metadata": {},
   "source": [
    "##### Check the files"
   ]
  },
  {
   "cell_type": "code",
   "execution_count": 35,
   "id": "911d0b63-bcd1-4f18-9230-86f97b3464f7",
   "metadata": {},
   "outputs": [
    {
     "name": "stdout",
     "output_type": "stream",
     "text": [
      "\u001b[01;34m/var/folders/l9/lc2j46w15bxdzz_cwhq2lx8w0000gn/T/tmpwcgmjg8c/tmpxyv1aezm\u001b[00m\n",
      "├── \u001b[01;34mdata\u001b[00m\n",
      "│   └── generated_samples.dvc\n",
      "├── dvc.lock\n",
      "├── dvc.yaml\n",
      "├── train.py\n",
      "└── \u001b[01;34mtraining_inputs\u001b[00m\n",
      "    └── \u001b[01;34mconfigs\u001b[00m\n",
      "        └── config.json\n",
      "\n",
      "3 directories, 5 files\n"
     ]
    }
   ],
   "source": [
    "!tree {cloned_project_path}"
   ]
  },
  {
   "cell_type": "markdown",
   "id": "ca43a21a-e5b5-45d8-bcdd-b60265dfd2e5",
   "metadata": {},
   "source": [
    "##### Check the files after DVC pull"
   ]
  },
  {
   "cell_type": "code",
   "execution_count": 36,
   "id": "f836f825-1732-4ffe-9680-07c2745d7f28",
   "metadata": {},
   "outputs": [
    {
     "name": "stdout",
     "output_type": "stream",
     "text": [
      "  0% Checkout|                                       |0/4 [00:00<?,     ?file/s]\n",
      "!\u001b[A\n",
      "  0%|          |.bUb6nf4rmnpxq2UDBKWYNT.tmp        0.00/? [00:00<?,        ?B/s]\u001b[A\n",
      "  0%|          |.bUb6nf4rmnpxq2UDBKWYNT.tmp     0.00/4.00 [00:00<?,        ?B/s]\u001b[A\n",
      "                                                                                \u001b[A\n",
      "!\u001b[A\n",
      "  0%|          |.Mc5ik9dwo8kFmbmwbNApWP.tmp        0.00/? [00:00<?,        ?B/s]\u001b[A\n",
      "  0%|          |.Mc5ik9dwo8kFmbmwbNApWP.tmp     0.00/4.00 [00:00<?,        ?B/s]\u001b[A\n",
      "\u001b[32mA\u001b[0m       data/generated_samples/                                        \u001b[A\n",
      "\u001b[32mA\u001b[0m       training_outputs/\n",
      "2 files added and 4 files fetched\n",
      "\u001b[0m"
     ]
    }
   ],
   "source": [
    "!dvc --cd {cloned_project_path} pull"
   ]
  },
  {
   "cell_type": "markdown",
   "id": "ecfe0a26-0dcd-441f-afd5-a69517876b63",
   "metadata": {},
   "source": [
    "##### Check the files after DVC pull"
   ]
  },
  {
   "cell_type": "code",
   "execution_count": 37,
   "id": "4ef3b02e-fff4-4a1d-a471-8dc2255f2bf6",
   "metadata": {},
   "outputs": [
    {
     "name": "stdout",
     "output_type": "stream",
     "text": [
      "\u001b[01;34m/var/folders/l9/lc2j46w15bxdzz_cwhq2lx8w0000gn/T/tmpwcgmjg8c/tmpxyv1aezm\u001b[00m\n",
      "├── \u001b[01;34mdata\u001b[00m\n",
      "│   ├── \u001b[01;34mgenerated_samples\u001b[00m\n",
      "│   │   ├── \u001b[01;34msample_1\u001b[00m\n",
      "│   │   │   └── \u001b[01;35mpreethi-viswanathan-h5fsy4E4FMY-unsplash.jpg\u001b[00m\n",
      "│   │   ├── \u001b[01;34msample_2\u001b[00m\n",
      "│   │   │   └── \u001b[01;35mnasa-Q1p7bh3SHj8-unsplash.jpg\u001b[00m\n",
      "│   │   └── \u001b[01;34msample_3\u001b[00m\n",
      "│   │       └── \u001b[01;35mjj-ying-8bghKxNU1j0-unsplash.jpg\u001b[00m\n",
      "│   └── generated_samples.dvc\n",
      "├── dvc.lock\n",
      "├── dvc.yaml\n",
      "├── train.py\n",
      "├── \u001b[01;34mtraining_inputs\u001b[00m\n",
      "│   └── \u001b[01;34mconfigs\u001b[00m\n",
      "│       └── config.json\n",
      "└── \u001b[01;34mtraining_outputs\u001b[00m\n",
      "    └── model.p\n",
      "\n",
      "8 directories, 9 files\n"
     ]
    }
   ],
   "source": [
    "!tree {cloned_project_path}"
   ]
  },
  {
   "cell_type": "code",
   "execution_count": null,
   "id": "73585458-acd8-4d6f-b942-4eeb8713b64c",
   "metadata": {},
   "outputs": [],
   "source": []
  }
 ],
 "metadata": {
  "kernelspec": {
   "display_name": "Python [conda env:dvc-example] *",
   "language": "python",
   "name": "conda-env-dvc-example-py"
  },
  "language_info": {
   "codemirror_mode": {
    "name": "ipython",
    "version": 3
   },
   "file_extension": ".py",
   "mimetype": "text/x-python",
   "name": "python",
   "nbconvert_exporter": "python",
   "pygments_lexer": "ipython3",
   "version": "3.9.7"
  }
 },
 "nbformat": 4,
 "nbformat_minor": 5
}
